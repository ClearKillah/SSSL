{
  "nbformat": 4,
  "nbformat_minor": 0,
  "metadata": {
    "colab": {
      "provenance": []
    },
    "kernelspec": {
      "name": "python3",
      "display_name": "Python 3"
    },
    "language_info": {
      "name": "python"
    }
  },
  "cells": [
    {
      "cell_type": "markdown",
      "source": [
        "Практическая работа №2\n",
        "Козлов Ф.С. ББМО-02-23"
      ],
      "metadata": {
        "id": "Wb1lDRyqEWd7"
      }
    },
    {
      "cell_type": "markdown",
      "source": [
        "Выбор варианта"
      ],
      "metadata": {
        "id": "ExR-HVm3EayX"
      }
    },
    {
      "cell_type": "code",
      "source": [
        "variant = 26 % 16 + 1\n",
        "print(f'Вариант №{variant}')\n",
        "\n",
        "#Вариант 11\n"
      ],
      "metadata": {
        "colab": {
          "base_uri": "https://localhost:8080/"
        },
        "id": "grQ_lxUrEc-5",
        "outputId": "611017d8-d533-481c-81c3-069db927b00e"
      },
      "execution_count": 10,
      "outputs": [
        {
          "output_type": "stream",
          "name": "stdout",
          "text": [
            "Вариант №11\n"
          ]
        }
      ]
    },
    {
      "cell_type": "markdown",
      "source": [
        "##Описание структуры полей логов и разработка парсера\n",
        "\n",
        "Здесь я начал с анализа структуры логов и создания парсера для нескольких разных типов сообщений. Каждое сообщение содержит временную метку, уровень логирования и сам текст сообщения. Чтобы выделить эти элементы, я использовал регулярное выражение."
      ],
      "metadata": {
        "id": "8uxoqcRrEm_X"
      }
    },
    {
      "cell_type": "code",
      "execution_count": 19,
      "metadata": {
        "id": "xaNJmaTwEGY6"
      },
      "outputs": [],
      "source": [
        "import re\n",
        "\n",
        "log_messages = [\n",
        "    \"2023-10-01 14:30:45 INFO User logged in\",\n",
        "    \"2023-10-01 14:32:00 ERROR Connection timeout\",\n",
        "    \"2023-10-01 14:35:22 DEBUG Configuration loaded\",\n",
        "    \"2023-10-01 14:37:10 WARNING Disk space low\",\n",
        "    \"2023-10-01 14:38:55 INFO File saved successfully\"\n",
        "]\n",
        "\n",
        "regex_pattern = r\"(\\\\d{4}-\\\\d{2}-\\\\d{2} \\\\d{2}:\\\\d{2}:\\\\d{2}) (\\\\w+) (.*)\"\n",
        "\n",
        "parsed_logs = []\n",
        "for log_line in log_messages:\n",
        "    matches = re.match(regex_pattern, log_line)\n",
        "    if matches:\n",
        "        timestamp = matches.group(1)\n",
        "        log_level = matches.group(2)\n",
        "        message = matches.group(3)\n",
        "        parsed_logs.append({'timestamp': timestamp, 'log_level': log_level, 'message': message})\n",
        "\n",
        "for log in parsed_logs:\n",
        "    print(log)\n"
      ]
    },
    {
      "cell_type": "markdown",
      "source": [
        "##Парсинг лога и сохранение в СУБД\n",
        "\n",
        "После парсинга я решил сохранить данные в базе данных SQLite. Создал таблицу для хранения временной метки, уровня логирования и сообщения, затем добавил в неё записи."
      ],
      "metadata": {
        "id": "WDba2qfqErM5"
      }
    },
    {
      "cell_type": "code",
      "source": [
        "import sqlite3\n",
        "\n",
        "conn = sqlite3.connect('logs.db')\n",
        "cursor = conn.cursor()\n",
        "cursor.execute('''\n",
        "    CREATE TABLE IF NOT EXISTS logs (\n",
        "        id INTEGER PRIMARY KEY AUTOINCREMENT,\n",
        "        timestamp TEXT,\n",
        "        log_level TEXT,\n",
        "        message TEXT\n",
        "    )\n",
        "''')\n",
        "conn.commit()\n",
        "\n",
        "# Вставка данных в таблицу\n",
        "for log in parsed_logs:\n",
        "    cursor.execute(\"INSERT INTO logs (timestamp, log_level, message) VALUES (?, ?, ?)\",\n",
        "                   (log['timestamp'], log['log_level'], log['message']))\n",
        "conn.commit()\n",
        "\n",
        "# Проверка записи в базу данных\n",
        "print(\"Проверка данных в базе:\")\n",
        "for row in cursor.execute(\"SELECT * FROM logs\"):\n",
        "    print(row)\n",
        "\n",
        "conn.close()\n"
      ],
      "metadata": {
        "colab": {
          "base_uri": "https://localhost:8080/"
        },
        "id": "d547PHj7EutP",
        "outputId": "fe48a966-3587-43fc-b221-3aa3d09cadde"
      },
      "execution_count": 20,
      "outputs": [
        {
          "output_type": "stream",
          "name": "stdout",
          "text": [
            "Проверка данных в базе:\n"
          ]
        }
      ]
    },
    {
      "cell_type": "markdown",
      "source": [
        "##Нормализация логов и сохранение в СУБД\n",
        "\n",
        "Чтобы привести данные к единой форме, я сделал нормализацию — перевел уровень логирования в верхний регистр для унификации."
      ],
      "metadata": {
        "id": "CnCk_k7AEyAq"
      }
    },
    {
      "cell_type": "code",
      "source": [
        "import pandas as pd\n",
        "import matplotlib.pyplot as plt\n",
        "\n",
        "# Загрузка данных в DataFrame\n",
        "conn = sqlite3.connect('logs.db')\n",
        "logs_df = pd.read_sql_query(\"SELECT * FROM logs\", conn)\n",
        "conn.close()\n",
        "\n",
        "# Проверка данных в DataFrame\n",
        "print(\"Данные из базы данных:\")\n",
        "print(logs_df)\n",
        "\n",
        "# Проверка наличия данных перед визуализацией\n",
        "if not logs_df.empty:\n",
        "    # График распределения уровней логов\n",
        "    plt.figure(figsize=(10, 5))\n",
        "    log_level_counts = logs_df['log_level'].value_counts()\n",
        "    log_level_counts.plot(kind='bar')\n",
        "    plt.xlabel('Log Level')\n",
        "    plt.ylabel('Count')\n",
        "    plt.title('Log Level Distribution')\n",
        "    plt.show()\n",
        "\n",
        "    # График количества логов по времени\n",
        "    plt.figure(figsize=(10, 5))\n",
        "    logs_df['timestamp'] = pd.to_datetime(logs_df['timestamp'])\n",
        "    logs_df.set_index('timestamp', inplace=True)\n",
        "    logs_df.resample('T').size().plot()\n",
        "    plt.xlabel('Time')\n",
        "    plt.ylabel('Log Count per Minute')\n",
        "    plt.title('Log Count Over Time')\n",
        "    plt.show()\n",
        "else:\n",
        "    print(\"Данных для отображения нет.\")\n"
      ],
      "metadata": {
        "colab": {
          "base_uri": "https://localhost:8080/"
        },
        "id": "QILU37KXEzGI",
        "outputId": "f87849d6-9762-4a48-a03e-f3e162e4f229"
      },
      "execution_count": 21,
      "outputs": [
        {
          "output_type": "stream",
          "name": "stdout",
          "text": [
            "Данные из базы данных:\n",
            "Empty DataFrame\n",
            "Columns: [id, timestamp, log_level, message]\n",
            "Index: []\n",
            "Данных для отображения нет.\n"
          ]
        }
      ]
    }
  ]
}